{
 "cells": [
  {
   "cell_type": "code",
   "execution_count": 214,
   "metadata": {},
   "outputs": [],
   "source": [
    "import cv2\n",
    "import face_recognition\n",
    "import numpy as np\n",
    "import os\n",
    "from datetime import datetime\n",
    "import csv"
   ]
  },
  {
   "cell_type": "code",
   "execution_count": 215,
   "metadata": {},
   "outputs": [],
   "source": [
    "# This is a demo of running face recognition on live video from your webcam. It's a little more complicated than the\n",
    "# other example, but it includes some basic performance tweaks to make things run a lot faster:\n",
    "#   1. Process each video frame at 1/4 resolution (though still display it at full resolution)\n",
    "#   2. Only detect faces in every other frame of video.\n",
    "\n",
    "# PLEASE NOTE: This example requires OpenCV (the `cv2` library) to be installed only to read from your webcam.\n",
    "# OpenCV is *not* required to use the face_recognition library. It's only required if you want to run this\n",
    "# specific demo. If you have trouble installing it, try any of the other demos that don't require it instead."
   ]
  },
  {
   "cell_type": "code",
   "execution_count": 216,
   "metadata": {},
   "outputs": [
    {
     "name": "stdout",
     "output_type": "stream",
     "text": [
      "['ajith.jpg', 'arun vijay.jpg', 'karthi.jpg', 'surya.jpg', 'vijay.jpg', 'vj sedhupathi.jpg']\n"
     ]
    }
   ],
   "source": [
    "# Load a sample picture and learn how to recognize it.\n",
    "path='Images'\n",
    "images = []\n",
    "known_face_names = []\n",
    "mylist = os.listdir(path)\n",
    "print(mylist)"
   ]
  },
  {
   "cell_type": "code",
   "execution_count": 217,
   "metadata": {},
   "outputs": [
    {
     "data": {
      "text/plain": [
       "['AJITH', 'ARUN VIJAY', 'KARTHI', 'SURYA', 'VIJAY', 'VJ SEDHUPATHI']"
      ]
     },
     "execution_count": 217,
     "metadata": {},
     "output_type": "execute_result"
    }
   ],
   "source": [
    "for i in mylist:\n",
    "    curimg = cv2.imread(f'{path}/{i}')\n",
    "    images.append(curimg)\n",
    "    known_face_names.append(os.path.splitext(i)[0].upper())\n",
    "known_face_names"
   ]
  },
  {
   "cell_type": "code",
   "execution_count": 218,
   "metadata": {},
   "outputs": [],
   "source": [
    "def findencodings(images):\n",
    "    encodelist = []\n",
    "    for img in images:\n",
    "        img = cv2.cvtColor(img, cv2.COLOR_BGR2RGB)\n",
    "        encode = face_recognition.face_encodings(img)[0]\n",
    "        encodelist.append(encode)\n",
    "    return encodelist"
   ]
  },
  {
   "cell_type": "code",
   "execution_count": 219,
   "metadata": {},
   "outputs": [],
   "source": [
    "def record(name):\n",
    "    with open(\"record.csv\",'r+') as f:\n",
    "        mydatalist = f.readlines()\n",
    "        namelist = []\n",
    "        for line in mydatalist:\n",
    "            entry = line.split(',')\n",
    "            namelist.append(entry[0])\n",
    "        if name not in namelist:\n",
    "            now = datetime.now()\n",
    "            dtstring = now.strftime('%H:%M:%S')\n",
    "            f.writelines(f'\\n{name},{dtstring}')"
   ]
  },
  {
   "cell_type": "code",
   "execution_count": 220,
   "metadata": {},
   "outputs": [],
   "source": [
    "def new_record (name):\n",
    "    with open(\"Master record.csv\",\"r\") as mr:\n",
    "            mrlist = csv.DictReader(mr)\n",
    "            fieldnames = ['Car Number', 'Name', 'Age', 'Height (cm)', 'Weight (kg)', 'Blood Group', 'Last visit', 'Reason for last visit', 'Doctor Name']\n",
    "\n",
    "            with open('New record.csv', 'w', newline=\"\") as nr:\n",
    "         \n",
    "                csv_writer  = csv.DictWriter(nr, fieldnames=fieldnames, delimiter=',')\n",
    "\n",
    "                csv_writer.writeheader()\n",
    "\n",
    "                for line in mrlist:\n",
    "                    if line['Name'] in face_list:\n",
    "                        csv_writer.writerow(line)"
   ]
  },
  {
   "cell_type": "code",
   "execution_count": 221,
   "metadata": {},
   "outputs": [],
   "source": [
    "known_face_encodings = findencodings(images)"
   ]
  },
  {
   "cell_type": "code",
   "execution_count": 222,
   "metadata": {},
   "outputs": [],
   "source": [
    "# Initialize some variables\n",
    "face_locations = []\n",
    "face_encodings = []\n",
    "face_names = []\n",
    "face_list=[]\n",
    "process_this_frame = True"
   ]
  },
  {
   "cell_type": "code",
   "execution_count": 223,
   "metadata": {},
   "outputs": [],
   "source": [
    "# Get a reference to webcam #0 (the default one)\n",
    "video_capture = cv2.VideoCapture(0)\n",
    "while True:\n",
    "    # Grab a single frame of video\n",
    "    ret, frame = video_capture.read()\n",
    "\n",
    "    # Resize frame of video to 1/4 size for faster face recognition processing\n",
    "    small_frame = cv2.resize(frame, (0, 0), fx=0.25, fy=0.25)\n",
    "\n",
    "    # Convert the image from BGR color (which OpenCV uses) to RGB color (which face_recognition uses)\n",
    "    rgb_small_frame = small_frame[:, :, ::-1]\n",
    "\n",
    "    # Only process every other frame of video to save time\n",
    "    if process_this_frame:\n",
    "        # Find all the faces and face encodings in the current frame of video\n",
    "        face_locations = face_recognition.face_locations(rgb_small_frame)\n",
    "        face_encodings = face_recognition.face_encodings(rgb_small_frame, face_locations)\n",
    "\n",
    "        face_names = []\n",
    "        for face_encoding in face_encodings:\n",
    "            # See if the face is a match for the known face(s)\n",
    "            matches = face_recognition.compare_faces(known_face_encodings, face_encoding)\n",
    "            name = \"Unknown\"\n",
    "\n",
    "            # use the known face with the smallest distance to the new face\n",
    "            face_distances = face_recognition.face_distance(known_face_encodings, face_encoding)\n",
    "            best_match_index = np.argmin(face_distances)\n",
    "            if matches[best_match_index]:\n",
    "                name = known_face_names[best_match_index]\n",
    "               \n",
    "            face_list.append(name)\n",
    "            face_names.append(name)\n",
    "            new_record(name)\n",
    "            record(name)\n",
    "            \n",
    "            \n",
    "\n",
    "    process_this_frame = not process_this_frame\n",
    "\n",
    "\n",
    "    # Display the results\n",
    "    for (top, right, bottom, left), name in zip(face_locations, face_names):\n",
    "        # Scale back up face locations since the frame we detected in was scaled to 1/4 size\n",
    "        top *= 4\n",
    "        right *= 4\n",
    "        bottom *= 4\n",
    "        left *= 4\n",
    "\n",
    "        # Draw a box around the face\n",
    "        cv2.rectangle(frame, (left, top), (right, bottom), (0, 200, 0), 2)\n",
    "\n",
    "        # Draw a label with a name above the face\n",
    "        cv2.rectangle(frame, (left, top - 35), (right, top), (0, 200, 0), cv2.FILLED)\n",
    "        font = cv2.FONT_HERSHEY_DUPLEX\n",
    "        cv2.putText(frame, name, (left +6, top -6), font, 1.0, (255, 255, 255), 1)\n",
    "\n",
    "\n",
    "    # Display the resulting image\n",
    "    cv2.imshow('Video', frame)\n",
    "\n",
    "    # Hit 'q' on the keyboard to quit!\n",
    "    if cv2.waitKey(1) & 0xFF == ord('q'):\n",
    "        break\n",
    "\n",
    "# Release handle to the webcam\n",
    "video_capture.release()\n",
    "cv2.destroyAllWindows()"
   ]
  }
 ],
 "metadata": {
  "kernelspec": {
   "display_name": "Python 3",
   "language": "python",
   "name": "python3"
  },
  "language_info": {
   "codemirror_mode": {
    "name": "ipython",
    "version": 3
   },
   "file_extension": ".py",
   "mimetype": "text/x-python",
   "name": "python",
   "nbconvert_exporter": "python",
   "pygments_lexer": "ipython3",
   "version": "3.10.7"
  },
  "orig_nbformat": 4,
  "vscode": {
   "interpreter": {
    "hash": "0e69ab3620f7c194da04e14d045d794a2e86a58ca06a15df4b97aa84677ee75f"
   }
  }
 },
 "nbformat": 4,
 "nbformat_minor": 2
}
